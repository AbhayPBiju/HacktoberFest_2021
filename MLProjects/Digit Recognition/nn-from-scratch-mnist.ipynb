{
 "cells": [
  {
   "cell_type": "code",
   "execution_count": 1,
   "id": "c8bcc132",
   "metadata": {
    "_cell_guid": "b1076dfc-b9ad-4769-8c92-a6c4dae69d19",
    "_uuid": "8f2839f25d086af736a60e9eeb907d3b93b6e0e5",
    "execution": {
     "iopub.execute_input": "2021-09-28T06:22:25.880874Z",
     "iopub.status.busy": "2021-09-28T06:22:25.879670Z",
     "iopub.status.idle": "2021-09-28T06:22:25.892614Z",
     "shell.execute_reply": "2021-09-28T06:22:25.893103Z",
     "shell.execute_reply.started": "2021-09-28T04:19:42.273332Z"
    },
    "papermill": {
     "duration": 0.031573,
     "end_time": "2021-09-28T06:22:25.893388",
     "exception": false,
     "start_time": "2021-09-28T06:22:25.861815",
     "status": "completed"
    },
    "tags": []
   },
   "outputs": [],
   "source": [
    "import numpy as np # linear algebra\n",
    "import pandas as pd # data processing, CSV file I/O (e.g. pd.read_csv)\n",
    "import os"
   ]
  },
  {
   "cell_type": "code",
   "execution_count": 14,
   "id": "4cad9971",
   "metadata": {},
   "outputs": [],
   "source": [
    "from tensorflow import keras"
   ]
  },
  {
   "cell_type": "code",
   "execution_count": 3,
   "id": "6bef3fd7",
   "metadata": {
    "execution": {
     "iopub.execute_input": "2021-09-28T06:22:25.923950Z",
     "iopub.status.busy": "2021-09-28T06:22:25.923282Z",
     "iopub.status.idle": "2021-09-28T06:22:31.859074Z",
     "shell.execute_reply": "2021-09-28T06:22:31.858348Z",
     "shell.execute_reply.started": "2021-09-28T04:19:42.312519Z"
    },
    "papermill": {
     "duration": 5.952497,
     "end_time": "2021-09-28T06:22:31.859215",
     "exception": false,
     "start_time": "2021-09-28T06:22:25.906718",
     "status": "completed"
    },
    "tags": []
   },
   "outputs": [],
   "source": [
    "train_df = pd.read_csv(\"train.csv\")\n",
    "test_df = pd.read_csv(\"test.csv\")"
   ]
  },
  {
   "cell_type": "code",
   "execution_count": 4,
   "id": "c5342873",
   "metadata": {
    "execution": {
     "iopub.execute_input": "2021-09-28T06:22:31.895095Z",
     "iopub.status.busy": "2021-09-28T06:22:31.894443Z",
     "iopub.status.idle": "2021-09-28T06:22:32.131807Z",
     "shell.execute_reply": "2021-09-28T06:22:32.132306Z",
     "shell.execute_reply.started": "2021-09-28T04:19:48.034627Z"
    },
    "papermill": {
     "duration": 0.260171,
     "end_time": "2021-09-28T06:22:32.132470",
     "exception": false,
     "start_time": "2021-09-28T06:22:31.872299",
     "status": "completed"
    },
    "tags": []
   },
   "outputs": [
    {
     "data": {
      "text/plain": [
       "(42000, 784)"
      ]
     },
     "execution_count": 4,
     "metadata": {},
     "output_type": "execute_result"
    }
   ],
   "source": [
    "y_train_d = np.array(train_df.loc[:,'label'])\n",
    "X_train_d = np.array(train_df.loc[:,train_df.columns!='label'])\n",
    "X_train_d.shape"
   ]
  },
  {
   "cell_type": "code",
   "execution_count": 5,
   "id": "c7a29ae6",
   "metadata": {
    "execution": {
     "iopub.execute_input": "2021-09-28T06:22:32.215993Z",
     "iopub.status.busy": "2021-09-28T06:22:32.215351Z",
     "iopub.status.idle": "2021-09-28T06:22:32.292472Z",
     "shell.execute_reply": "2021-09-28T06:22:32.292958Z",
     "shell.execute_reply.started": "2021-09-28T04:19:48.136930Z"
    },
    "papermill": {
     "duration": 0.147622,
     "end_time": "2021-09-28T06:22:32.293157",
     "exception": false,
     "start_time": "2021-09-28T06:22:32.145535",
     "status": "completed"
    },
    "tags": []
   },
   "outputs": [
    {
     "data": {
      "text/plain": [
       "(28000, 784)"
      ]
     },
     "execution_count": 5,
     "metadata": {},
     "output_type": "execute_result"
    }
   ],
   "source": [
    "X_test = np.array(test_df.loc[:,test_df.columns!='label'])\n",
    "X_test.shape"
   ]
  },
  {
   "cell_type": "code",
   "execution_count": 6,
   "id": "a4ab44a6",
   "metadata": {
    "execution": {
     "iopub.execute_input": "2021-09-28T06:22:32.324988Z",
     "iopub.status.busy": "2021-09-28T06:22:32.324311Z",
     "iopub.status.idle": "2021-09-28T06:22:32.427876Z",
     "shell.execute_reply": "2021-09-28T06:22:32.427296Z",
     "shell.execute_reply.started": "2021-09-28T04:19:48.201312Z"
    },
    "papermill": {
     "duration": 0.12123,
     "end_time": "2021-09-28T06:22:32.428008",
     "exception": false,
     "start_time": "2021-09-28T06:22:32.306778",
     "status": "completed"
    },
    "tags": []
   },
   "outputs": [],
   "source": [
    "X_train_d = X_train_d.astype('float32')\n",
    "X_train_d = X_train_d / 255.0"
   ]
  },
  {
   "cell_type": "code",
   "execution_count": 7,
   "id": "ce0b841d",
   "metadata": {
    "execution": {
     "iopub.execute_input": "2021-09-28T06:22:32.459410Z",
     "iopub.status.busy": "2021-09-28T06:22:32.458696Z",
     "iopub.status.idle": "2021-09-28T06:22:32.529268Z",
     "shell.execute_reply": "2021-09-28T06:22:32.529734Z",
     "shell.execute_reply.started": "2021-09-28T04:19:48.264902Z"
    },
    "papermill": {
     "duration": 0.088183,
     "end_time": "2021-09-28T06:22:32.529913",
     "exception": false,
     "start_time": "2021-09-28T06:22:32.441730",
     "status": "completed"
    },
    "tags": []
   },
   "outputs": [],
   "source": [
    "X_test = X_test.astype('float32')\n",
    "X_test = X_test / 255.0"
   ]
  },
  {
   "cell_type": "code",
   "execution_count": 8,
   "id": "477e0509",
   "metadata": {
    "execution": {
     "iopub.execute_input": "2021-09-28T06:22:32.560716Z",
     "iopub.status.busy": "2021-09-28T06:22:32.560049Z",
     "iopub.status.idle": "2021-09-28T06:22:33.395702Z",
     "shell.execute_reply": "2021-09-28T06:22:33.396202Z",
     "shell.execute_reply.started": "2021-09-28T04:19:48.308430Z"
    },
    "papermill": {
     "duration": 0.852829,
     "end_time": "2021-09-28T06:22:33.396414",
     "exception": false,
     "start_time": "2021-09-28T06:22:32.543585",
     "status": "completed"
    },
    "tags": []
   },
   "outputs": [],
   "source": [
    "import pandas as pd\n",
    "import numpy as np\n",
    "import seaborn as sns\n",
    "import matplotlib.pyplot as plt\n",
    "import matplotlib.cm as cm"
   ]
  },
  {
   "cell_type": "code",
   "execution_count": 9,
   "id": "28e98488",
   "metadata": {
    "execution": {
     "iopub.execute_input": "2021-09-28T06:22:33.426552Z",
     "iopub.status.busy": "2021-09-28T06:22:33.425879Z",
     "iopub.status.idle": "2021-09-28T06:22:34.684150Z",
     "shell.execute_reply": "2021-09-28T06:22:34.683672Z",
     "shell.execute_reply.started": "2021-09-28T04:19:49.261797Z"
    },
    "papermill": {
     "duration": 1.274125,
     "end_time": "2021-09-28T06:22:34.684301",
     "exception": false,
     "start_time": "2021-09-28T06:22:33.410176",
     "status": "completed"
    },
    "tags": []
   },
   "outputs": [
    {
     "data": {
      "image/png": "[encoded data removed]",
      "text/plain": [
       "<Figure size 432x288 with 8 Axes>"
      ]
     },
     "metadata": {
      "needs_background": "light"
     },
     "output_type": "display_data"
    }
   ],
   "source": [
    "np.random.seed(0);\n",
    "indices = list(np.random.randint(42000,size=9))\n",
    "for i in range(9):\n",
    "    plt.subplot(3,3,i+1)\n",
    "    plt.imshow(X_train_d[indices[i]].reshape(28,28), cmap='gray', interpolation='none')\n",
    "    plt.title(\"Index {} Class {}\".format(indices[i], y_train_d[indices[i]]))\n",
    "    plt.tight_layout()"
   ]
  },
  {
   "cell_type": "code",
   "execution_count": 10,
   "id": "ac13de8c",
   "metadata": {
    "execution": {
     "iopub.execute_input": "2021-09-28T06:22:34.852544Z",
     "iopub.status.busy": "2021-09-28T06:22:34.840763Z",
     "iopub.status.idle": "2021-09-28T06:22:34.855190Z",
     "shell.execute_reply": "2021-09-28T06:22:34.854697Z",
     "shell.execute_reply.started": "2021-09-28T06:19:49.671247Z"
    },
    "papermill": {
     "duration": 0.15671,
     "end_time": "2021-09-28T06:22:34.855343",
     "exception": false,
     "start_time": "2021-09-28T06:22:34.698633",
     "status": "completed"
    },
    "tags": []
   },
   "outputs": [],
   "source": [
    "class TwolayerNeuralNetwork(object):\n",
    "    \n",
    "    def __init__(self, input_size, hidden_size, output_size): \n",
    "        self.params = {}\n",
    "        self.params['W1'] = np.random.randn(input_size, hidden_size)   \n",
    "        self.params['b1'] = np.zeros((1, hidden_size))    \n",
    "        self.params['W2'] = np.random.randn(hidden_size, output_size)   \n",
    "        self.params['b2'] = np.zeros((1, output_size))\n",
    "        \n",
    "    def loss(self, X, y=None, reg=0.0):\n",
    "        W1, b1 = self.params['W1'], self.params['b1']\n",
    "        W2, b2 = self.params['W2'], self.params['b2']\n",
    "        N, D = X.shape\n",
    "        \n",
    "        scores = None\n",
    "        h1 = ReLU(np.dot(X, W1) + b1)      \n",
    "        out = np.dot(h1, W2) + b2          \n",
    "        scores = out\n",
    "        if y is None:   \n",
    "            return scores\n",
    "        \n",
    "        scores_max = np.max(scores, axis=1, keepdims=True)\n",
    "        exp_scores = np.exp(scores - scores_max)              \n",
    "        probs = exp_scores / np.sum(exp_scores, axis=1, keepdims=True)   \n",
    "        correct_logprobs = -np.log(probs[range(N), y])        \n",
    "        data_loss = np.sum(correct_logprobs) / N\n",
    "        reg_loss = 0.5 * reg * np.sum(W1*W1) + 0.5 * reg * np.sum(W2*W2)\n",
    "        loss = data_loss + reg_loss\n",
    "        \n",
    "        grads = {}\n",
    "        dscores = probs                                 \n",
    "        dscores[range(N), y] -= 1\n",
    "        dscores /= N\n",
    "        \n",
    "        dW2 = np.dot(h1.T, dscores)                  \n",
    "        db2 = np.sum(dscores, axis=0, keepdims=True)\n",
    "        dh1 = np.dot(dscores, W2.T)                     \n",
    "        dh1[h1 <= 0] = 0\n",
    "        dW1 = np.dot(X.T, dh1)                          \n",
    "        db1 = np.sum(dh1, axis=0, keepdims=True)\n",
    "        dW2 += reg * W2\n",
    "        dW1 += reg * W1\n",
    "        \n",
    "        grads['W1'] = dW1\n",
    "        grads['b1'] = db1\n",
    "        grads['W2'] = dW2\n",
    "        grads['b2'] = db2\n",
    "\n",
    "        return loss, grads\n",
    "    \n",
    "    def train(self, X, y, learning_rate=1e-3, \n",
    "                reg=1e-5, num_epochs=10, \n",
    "                batch_size=200, verbose=False): \n",
    "        \n",
    "        num_train = X.shape[0]\n",
    "        iterations_per_epoch = max(int(num_train / batch_size), 1)\n",
    "        \n",
    "        beta =0.99\n",
    "        v_dW2, v_db2 = 0.0, 0.0\n",
    "        v_dW1, v_db1 = 0.0, 0.0\n",
    "        loss_history = []\n",
    "        train_acc_history = []\n",
    "        \n",
    "        for it in range(1, num_epochs * iterations_per_epoch + 1):   \n",
    "            X_batch = None   \n",
    "            y_batch = None \n",
    "            \n",
    "            sample_index = np.random.choice(num_train, batch_size, replace=True)   \n",
    "            X_batch = X[sample_index, :]          \n",
    "            y_batch = y[sample_index]             \n",
    "            \n",
    "            loss, grads = self.loss(X_batch, y=y_batch, reg=reg) \n",
    "            loss_history.append(loss)\n",
    "    \n",
    "            v_dW2 = beta * v_dW2 + (1 - beta) * grads['W2']\n",
    "            v_db2 = beta * v_db2 + (1 - beta) * grads['b2'] \n",
    "            self.params['W2'] -= learning_rate * v_dW2\n",
    "            self.params['b2'] -= learning_rate * v_db2\n",
    "            v_dW1 = beta * v_dW1 + (1 - beta) * grads['W1']\n",
    "            v_db1 = beta * v_db1 + (1 - beta) * grads['b1'] \n",
    "            self.params['W1'] -= learning_rate * v_dW1\n",
    "            self.params['b1'] -= learning_rate * v_db1\n",
    "            \n",
    "            if verbose and it % iterations_per_epoch == 0:    \n",
    "                epoch = it / iterations_per_epoch    \n",
    "                train_acc = (self.predict(X_batch) == y_batch).mean()    \n",
    "                train_acc_history.append(train_acc)    \n",
    "                print(\"epoch %d / %d: loss %f, train_acc: %f\" % \n",
    "                                    (epoch, num_epochs, loss, train_acc))\n",
    "                if train_acc > 0.985:\n",
    "                    break\n",
    "                \n",
    "\n",
    "        return {   \n",
    "            'loss_history': loss_history,   \n",
    "            'train_acc_history': train_acc_history,   \n",
    "        }\n",
    "    \n",
    "    def predict(self, X):    \n",
    "\n",
    "        y_pred = None    \n",
    "        h1 = ReLU(np.dot(X, self.params['W1']) + self.params['b1'])    \n",
    "        scores = np.dot(h1, self.params['W2']) + self.params['b2']    \n",
    "        y_pred = np.argmax(scores, axis=1)    \n",
    "\n",
    "        return y_pred\n",
    "    \n",
    "def ReLU(x):    \n",
    "    return np.maximum(0, x)"
   ]
  },
  {
   "cell_type": "code",
   "execution_count": 11,
   "id": "3710955a",
   "metadata": {
    "execution": {
     "iopub.execute_input": "2021-09-28T06:22:34.889176Z",
     "iopub.status.busy": "2021-09-28T06:22:34.888593Z",
     "iopub.status.idle": "2021-09-28T06:22:35.402762Z",
     "shell.execute_reply": "2021-09-28T06:22:35.402155Z",
     "shell.execute_reply.started": "2021-09-28T06:19:50.096504Z"
    },
    "papermill": {
     "duration": 0.533095,
     "end_time": "2021-09-28T06:22:35.402902",
     "exception": false,
     "start_time": "2021-09-28T06:22:34.869807",
     "status": "completed"
    },
    "tags": []
   },
   "outputs": [],
   "source": [
    "from sklearn.model_selection import train_test_split\n",
    "X_train, X_test, y_train, y_test = train_test_split(X_train_d,y_train_d, test_size=0.25, random_state=42)"
   ]
  },
  {
   "cell_type": "code",
   "execution_count": 12,
   "id": "25d9a44f",
   "metadata": {
    "execution": {
     "iopub.execute_input": "2021-09-28T06:22:35.438788Z",
     "iopub.status.busy": "2021-09-28T06:22:35.438118Z",
     "iopub.status.idle": "2021-09-28T06:23:14.137372Z",
     "shell.execute_reply": "2021-09-28T06:23:14.138322Z",
     "shell.execute_reply.started": "2021-09-28T06:19:52.123522Z"
    },
    "papermill": {
     "duration": 38.720965,
     "end_time": "2021-09-28T06:23:14.138635",
     "exception": false,
     "start_time": "2021-09-28T06:22:35.417670",
     "status": "completed"
    },
    "tags": []
   },
   "outputs": [
    {
     "name": "stdout",
     "output_type": "stream",
     "text": [
      "epoch 1 / 25: loss 29.076970, train_acc: 0.750000\n",
      "epoch 2 / 25: loss 28.502713, train_acc: 0.656250\n",
      "epoch 3 / 25: loss 25.541739, train_acc: 0.781250\n",
      "epoch 4 / 25: loss 24.477484, train_acc: 0.781250\n",
      "epoch 5 / 25: loss 23.875355, train_acc: 0.875000\n",
      "epoch 6 / 25: loss 24.082447, train_acc: 0.781250\n",
      "epoch 7 / 25: loss 23.307834, train_acc: 0.843750\n",
      "epoch 8 / 25: loss 22.306997, train_acc: 0.906250\n",
      "epoch 9 / 25: loss 21.975072, train_acc: 0.843750\n",
      "epoch 10 / 25: loss 21.990678, train_acc: 0.718750\n",
      "epoch 11 / 25: loss 21.586302, train_acc: 0.843750\n",
      "epoch 12 / 25: loss 21.069077, train_acc: 0.906250\n",
      "epoch 13 / 25: loss 20.385464, train_acc: 0.875000\n",
      "epoch 14 / 25: loss 20.183011, train_acc: 0.843750\n",
      "epoch 15 / 25: loss 20.101558, train_acc: 0.750000\n",
      "epoch 16 / 25: loss 19.294050, train_acc: 0.937500\n",
      "epoch 17 / 25: loss 19.964323, train_acc: 0.843750\n",
      "epoch 18 / 25: loss 18.617817, train_acc: 0.906250\n",
      "epoch 19 / 25: loss 18.218457, train_acc: 0.937500\n",
      "epoch 20 / 25: loss 18.283968, train_acc: 0.906250\n",
      "epoch 21 / 25: loss 18.047472, train_acc: 0.968750\n",
      "epoch 22 / 25: loss 17.354324, train_acc: 0.906250\n",
      "epoch 23 / 25: loss 16.970629, train_acc: 0.968750\n",
      "epoch 24 / 25: loss 16.861375, train_acc: 0.937500\n",
      "epoch 25 / 25: loss 16.695531, train_acc: 0.812500\n",
      "Test Accuracy 0.8748571428571429\n"
     ]
    }
   ],
   "source": [
    "input_size = X_train.shape[1]\n",
    "hidden_size = 64\n",
    "num_classes = 10\n",
    "net = TwolayerNeuralNetwork(input_size, hidden_size, num_classes)\n",
    "\n",
    "# Train the network\n",
    "stats = net.train(X_train, y_train,\n",
    "            num_epochs=25, batch_size=32,\n",
    "            learning_rate= 9*1e-3, \n",
    "            reg=1e-3, verbose=True)\n",
    "\n",
    "# Predict on the test set\n",
    "test_acc = (net.predict(X_test) == y_test).mean()\n",
    "print(\"Test Accuracy\", test_acc)"
   ]
  },
  {
   "cell_type": "code",
   "execution_count": 13,
   "id": "3144875c",
   "metadata": {
    "execution": {
     "iopub.execute_input": "2021-09-28T06:23:14.231759Z",
     "iopub.status.busy": "2021-09-28T06:23:14.220721Z",
     "iopub.status.idle": "2021-09-28T06:23:14.555975Z",
     "shell.execute_reply": "2021-09-28T06:23:14.556522Z",
     "shell.execute_reply.started": "2021-09-28T06:20:23.487184Z"
    },
    "papermill": {
     "duration": 0.378428,
     "end_time": "2021-09-28T06:23:14.556687",
     "exception": false,
     "start_time": "2021-09-28T06:23:14.178259",
     "status": "completed"
    },
    "tags": []
   },
   "outputs": [
    {
     "data": {
      "image/png": "[encoded data removed]",
      "text/plain": [
       "<Figure size 720x576 with 2 Axes>"
      ]
     },
     "metadata": {
      "needs_background": "light"
     },
     "output_type": "display_data"
    }
   ],
   "source": [
    "plt.rcParams['figure.figsize'] = (10.0, 8.0) \n",
    "plt.rcParams['image.interpolation'] = 'nearest'\n",
    "plt.rcParams['image.cmap'] = 'gray'\n",
    "plt.subplots_adjust(wspace =0, hspace =0.3)\n",
    "\n",
    "\n",
    "# Plot the loss function and train accuracy\n",
    "\n",
    "plt.subplot(2, 1, 1)\n",
    "plt.plot(stats['loss_history'])\n",
    "plt.title('Loss history')\n",
    "plt.xlabel('Iteration')\n",
    "plt.ylabel('Loss')\n",
    "\n",
    "plt.subplot(2, 1, 2)\n",
    "plt.plot(stats['train_acc_history'], label='train')\n",
    "plt.title('Classification accuracy history')\n",
    "plt.xlabel('Epoch')\n",
    "plt.ylabel('Clasification accuracy')\n",
    "plt.legend()\n",
    "plt.show()"
   ]
  },
  {
   "cell_type": "code",
   "execution_count": null,
   "id": "798a9178",
   "metadata": {
    "papermill": {
     "duration": 0.022801,
     "end_time": "2021-09-28T06:23:14.649327",
     "exception": false,
     "start_time": "2021-09-28T06:23:14.626526",
     "status": "completed"
    },
    "tags": []
   },
   "outputs": [],
   "source": []
  },
  {
   "cell_type": "code",
   "execution_count": null,
   "id": "0759fd42",
   "metadata": {},
   "outputs": [],
   "source": []
  }
 ],
 "metadata": {
  "kernelspec": {
   "display_name": "Python 3",
   "language": "python",
   "name": "python3"
  },
  "language_info": {
   "codemirror_mode": {
    "name": "ipython",
    "version": 3
   },
   "file_extension": ".py",
   "mimetype": "text/x-python",
   "name": "python",
   "nbconvert_exporter": "python",
   "pygments_lexer": "ipython3",
   "version": "3.8.8"
  },
  "papermill": {
   "default_parameters": {},
   "duration": 57.718828,
   "end_time": "2021-09-28T06:23:15.830629",
   "environment_variables": {},
   "exception": null,
   "input_path": "__notebook__.ipynb",
   "output_path": "__notebook__.ipynb",
   "parameters": {},
   "start_time": "2021-09-28T06:22:18.111801",
   "version": "2.3.3"
  }
 },
 "nbformat": 4,
 "nbformat_minor": 5
}
